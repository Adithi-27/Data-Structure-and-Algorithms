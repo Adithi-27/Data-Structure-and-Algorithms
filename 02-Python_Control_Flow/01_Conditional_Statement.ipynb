{
  "nbformat": 4,
  "nbformat_minor": 0,
  "metadata": {
    "colab": {
      "provenance": []
    },
    "kernelspec": {
      "name": "python3",
      "display_name": "Python 3"
    },
    "language_info": {
      "name": "python"
    }
  },
  "cells": [
    {
      "cell_type": "code",
      "execution_count": 1,
      "metadata": {
        "colab": {
          "base_uri": "https://localhost:8080/"
        },
        "id": "2EjZZa6UeNIR",
        "outputId": "a6c02d7b-b292-4759-d1d9-ca3fc3b132ed"
      },
      "outputs": [
        {
          "output_type": "stream",
          "name": "stdout",
          "text": [
            "You are allowed to vote in the elections\n"
          ]
        }
      ],
      "source": [
        "## if statement\n",
        "age=20\n",
        "\n",
        "if age>=18:\n",
        "    print(\"You are allowed to vote in the elections\")"
      ]
    },
    {
      "cell_type": "code",
      "source": [
        "age>=18"
      ],
      "metadata": {
        "colab": {
          "base_uri": "https://localhost:8080/"
        },
        "id": "PyoAM36XemiY",
        "outputId": "b1d3faec-7687-4cc7-f4f9-e18d1503d0ac"
      },
      "execution_count": 2,
      "outputs": [
        {
          "output_type": "execute_result",
          "data": {
            "text/plain": [
              "True"
            ]
          },
          "metadata": {},
          "execution_count": 2
        }
      ]
    },
    {
      "cell_type": "code",
      "source": [
        "## else\n",
        "## The else statement executes a block of code if the condition in the if statement is False.\n",
        "\n",
        "age=16\n",
        "\n",
        "if age>=18:\n",
        "    print(\"You are eligible for voting\")\n",
        "else:\n",
        "    print(\"You are a minor\")"
      ],
      "metadata": {
        "colab": {
          "base_uri": "https://localhost:8080/"
        },
        "id": "teCvG1akeq6e",
        "outputId": "f7203363-eeb5-4064-d01e-fa56152cd635"
      },
      "execution_count": 3,
      "outputs": [
        {
          "output_type": "stream",
          "name": "stdout",
          "text": [
            "You are a minor\n"
          ]
        }
      ]
    },
    {
      "cell_type": "code",
      "source": [
        "## elif\n",
        "## The elif statement allows you to check multiple conditions. It stands for \"else if\"\n",
        "\n",
        "age=17\n",
        "\n",
        "if age<13:\n",
        "    print(\"You are a child\")\n",
        "elif age<18:\n",
        "    print(\"You are a teenager\")\n",
        "else:\n",
        "    print(\"You are an adult\")"
      ],
      "metadata": {
        "colab": {
          "base_uri": "https://localhost:8080/"
        },
        "id": "cK8rFRmve5mD",
        "outputId": "37605735-bd08-4106-d131-a119bbe6d79d"
      },
      "execution_count": 4,
      "outputs": [
        {
          "output_type": "stream",
          "name": "stdout",
          "text": [
            "You are a teenager\n"
          ]
        }
      ]
    },
    {
      "cell_type": "code",
      "source": [
        "## Nested Condiitonal Statements\n",
        "\n",
        "# You can place one or more if, elif, or else statements inside another if, elif, or else statement to create nested conditional statements.\n",
        "\n",
        "## number even ,odd,negative\n",
        "\n",
        "num=int(input(\"Enter the number\"))\n",
        "\n",
        "if num>0:\n",
        "    print(\"The number is positive\")\n",
        "    if num%2==0:\n",
        "        print(\"The number is even\")\n",
        "    else:\n",
        "        print(\"The number is odd\")\n",
        "\n",
        "else:\n",
        "    print(\"The number is zero or negative\")"
      ],
      "metadata": {
        "colab": {
          "base_uri": "https://localhost:8080/"
        },
        "id": "qpdZrxzogLMn",
        "outputId": "d98e720e-dcab-4d2c-cf75-d7cce4e16b22"
      },
      "execution_count": 5,
      "outputs": [
        {
          "output_type": "stream",
          "name": "stdout",
          "text": [
            "Enter the number78\n",
            "The number is positive\n",
            "The number is even\n"
          ]
        }
      ]
    },
    {
      "cell_type": "code",
      "source": [
        "## Practical Examples\n",
        "\n",
        "## Determine if a year is a leap year using nested condition statement\n",
        "\n",
        "year=int(input(\"Enter the year\"))\n",
        "\n",
        "if year%4==0:\n",
        "    if year%100==0:\n",
        "        if year%400==0:\n",
        "            print(year,\"is a leap year\")\n",
        "        else:\n",
        "            print(year,\"is not a leap year\")\n",
        "    else:\n",
        "        print(year,\"is a leap year\")\n",
        "\n",
        "else:\n",
        "    print(year,\"is not a leap year\")\n",
        "\n"
      ],
      "metadata": {
        "colab": {
          "base_uri": "https://localhost:8080/"
        },
        "id": "kZQ4hEabgP8_",
        "outputId": "b47e47e6-683c-4f49-abdf-527aea63e111"
      },
      "execution_count": 6,
      "outputs": [
        {
          "output_type": "stream",
          "name": "stdout",
          "text": [
            "Enter the year2024\n",
            "2024 is a leap year\n"
          ]
        }
      ]
    },
    {
      "cell_type": "code",
      "source": [
        "## Assignment\n",
        "## Simple Calculator program\n",
        "# Take user input\n",
        "num1 = float(input(\"Enter first number: \"))\n",
        "num2 = float(input(\"Enter second number: \"))\n",
        "operation = input(\"Enter operation (+, -, *, /): \")\n",
        "\n",
        "# Perform the requested operation\n",
        "if operation == '+':\n",
        "    result = num1 + num2\n",
        "elif operation == '-':\n",
        "    result = num1 - num2\n",
        "elif operation == '*':\n",
        "    result = num1 * num2\n",
        "elif operation == '/':\n",
        "    if num2 != 0:\n",
        "        result = num1 / num2\n",
        "    else:\n",
        "        result = \"Error! Division by zero.\"\n",
        "else:\n",
        "    result = \"Invalid operation.\"\n",
        "\n",
        "print(\"Result:\", result)"
      ],
      "metadata": {
        "colab": {
          "base_uri": "https://localhost:8080/"
        },
        "id": "M88MTQ1bgaDU",
        "outputId": "57ad1189-ff34-4786-8395-003f712321f0"
      },
      "execution_count": 7,
      "outputs": [
        {
          "output_type": "stream",
          "name": "stdout",
          "text": [
            "Enter first number: 67\n",
            "Enter second number: 56\n",
            "Enter operation (+, -, *, /): +\n",
            "Result: 123.0\n"
          ]
        }
      ]
    },
    {
      "cell_type": "code",
      "source": [
        "### Determine the ticket price based on age and whether the person is a student.\n",
        "# Ticket pricing based on age and student status\n",
        "\n",
        "# Take user input\n",
        "age = int(input(\"Enter your age: \"))\n",
        "is_student = input(\"Are you a student? (yes/no): \").lower()\n",
        "\n",
        "# Determine ticket price\n",
        "if age < 5:\n",
        "    price = \"Free\"\n",
        "elif age <= 12:\n",
        "    price = \"$10\"\n",
        "elif age <= 17:\n",
        "    if is_student == 'yes':\n",
        "        price = \"$12\"\n",
        "    else:\n",
        "        price = \"$15\"\n",
        "elif age <= 64:\n",
        "    if is_student == 'yes':\n",
        "        price = \"$18\"\n",
        "    else:\n",
        "        price = \"$25\"\n",
        "else:\n",
        "    price = \"$20\"\n",
        "\n",
        "print(\"Ticket Price:\", price)\n",
        "\n"
      ],
      "metadata": {
        "colab": {
          "base_uri": "https://localhost:8080/"
        },
        "id": "FpLQffFLgniK",
        "outputId": "fec70bce-ec78-4d7f-fb66-611c21a16602"
      },
      "execution_count": 8,
      "outputs": [
        {
          "output_type": "stream",
          "name": "stdout",
          "text": [
            "Enter your age: 25\n",
            "Are you a student? (yes/no): no\n",
            "Ticket Price: $25\n"
          ]
        }
      ]
    },
    {
      "cell_type": "code",
      "source": [
        "# Employee bonus calculation\n",
        "\n",
        "# Take user input\n",
        "years_of_service = int(input(\"Enter years of service: \"))\n",
        "performance_rating = float(input(\"Enter performance rating (1.0 to 5.0): \"))\n",
        "\n",
        "# Determine bonus percentage\n",
        "if performance_rating >= 4.5:\n",
        "    if years_of_service > 10:\n",
        "        bonus_percentage = 20\n",
        "    elif years_of_service > 5:\n",
        "        bonus_percentage = 15\n",
        "    else:\n",
        "        bonus_percentage = 10\n",
        "elif performance_rating >= 3.5:\n",
        "    if years_of_service > 10:\n",
        "        bonus_percentage = 15\n",
        "    elif years_of_service > 5:\n",
        "        bonus_percentage = 10\n",
        "    else:\n",
        "        bonus_percentage = 5\n",
        "else:\n",
        "    bonus_percentage = 0\n",
        "\n",
        "# Calculate bonus amount\n",
        "salary = float(input(\"Enter current salary: \"))\n",
        "bonus_amount = salary * bonus_percentage / 100\n",
        "\n",
        "print(\"Bonus Amount: ${:.2f}\".format(bonus_amount))\n"
      ],
      "metadata": {
        "colab": {
          "base_uri": "https://localhost:8080/"
        },
        "id": "1xPJTaqZg1bQ",
        "outputId": "8c420777-524d-454d-9cab-4b058a3b01ae"
      },
      "execution_count": 9,
      "outputs": [
        {
          "output_type": "stream",
          "name": "stdout",
          "text": [
            "Enter years of service: 2\n",
            "Enter performance rating (1.0 to 5.0): 4.5\n",
            "Enter current salary: 45000\n",
            "Bonus Amount: $4500.00\n"
          ]
        }
      ]
    },
    {
      "cell_type": "code",
      "source": [
        "# User login system\n",
        "\n",
        "# Predefined username and password\n",
        "stored_username = \"admin\"\n",
        "stored_password = \"password123\"\n",
        "\n",
        "# Take user input\n",
        "username = input(\"Enter username: \")\n",
        "password = input(\"Enter password: \")\n",
        "\n",
        "# Check login credentials\n",
        "if username == stored_username:\n",
        "    if password == stored_password:\n",
        "        print(\"Login successful!\")\n",
        "    else:\n",
        "        print(\"Incorrect password.\")\n",
        "else:\n",
        "    print(\"Username not found.\")\n"
      ],
      "metadata": {
        "colab": {
          "base_uri": "https://localhost:8080/"
        },
        "id": "hl07c4HLhZFd",
        "outputId": "d0919388-7067-4240-d6cf-beb275958efe"
      },
      "execution_count": 10,
      "outputs": [
        {
          "output_type": "stream",
          "name": "stdout",
          "text": [
            "Enter username: admin\n",
            "Enter password: password123\n",
            "Login successful!\n"
          ]
        }
      ]
    }
  ]
}