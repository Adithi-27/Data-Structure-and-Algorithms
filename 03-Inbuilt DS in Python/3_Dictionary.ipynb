{
  "nbformat": 4,
  "nbformat_minor": 0,
  "metadata": {
    "colab": {
      "provenance": []
    },
    "kernelspec": {
      "name": "python3",
      "display_name": "Python 3"
    },
    "language_info": {
      "name": "python"
    }
  },
  "cells": [
    {
      "cell_type": "code",
      "execution_count": 1,
      "metadata": {
        "colab": {
          "base_uri": "https://localhost:8080/"
        },
        "id": "bft1Ux2j8CzT",
        "outputId": "74e1d607-2428-49b5-cf5d-d6b26a6fa526"
      },
      "outputs": [
        {
          "output_type": "stream",
          "name": "stdout",
          "text": [
            "<class 'dict'>\n"
          ]
        }
      ],
      "source": [
        "## Creating Dictionaries\n",
        "empty_dict={}\n",
        "print(type(empty_dict))"
      ]
    },
    {
      "cell_type": "code",
      "source": [
        "empty_dict=dict()\n",
        "empty_dict"
      ],
      "metadata": {
        "colab": {
          "base_uri": "https://localhost:8080/"
        },
        "id": "qs848SP-8PUb",
        "outputId": "20a68ae2-63de-46c5-ccf8-c1a19ed2d3c9"
      },
      "execution_count": 2,
      "outputs": [
        {
          "output_type": "execute_result",
          "data": {
            "text/plain": [
              "{}"
            ]
          },
          "metadata": {},
          "execution_count": 2
        }
      ]
    },
    {
      "cell_type": "code",
      "source": [
        "student={\"name\":\"Adithi\",\"age\":24,\"grade\":16}\n",
        "print(student)\n",
        "print(type(student))"
      ],
      "metadata": {
        "colab": {
          "base_uri": "https://localhost:8080/"
        },
        "id": "8Cjjf86k8cCQ",
        "outputId": "b369d548-58c6-4338-90bf-37833f6caa9b"
      },
      "execution_count": 4,
      "outputs": [
        {
          "output_type": "stream",
          "name": "stdout",
          "text": [
            "{'name': 'Adithi', 'age': 24, 'grade': 16}\n",
            "<class 'dict'>\n"
          ]
        }
      ]
    },
    {
      "cell_type": "code",
      "source": [
        "# Single key is slways used\n",
        "student={\"name\":\"Adithi\",\"age\":24,\"name\":16}\n",
        "print(student)"
      ],
      "metadata": {
        "colab": {
          "base_uri": "https://localhost:8080/"
        },
        "id": "2boxy46D8ozG",
        "outputId": "d54903b0-02b1-4174-8e3f-c6bb6d60b67f"
      },
      "execution_count": 5,
      "outputs": [
        {
          "output_type": "stream",
          "name": "stdout",
          "text": [
            "{'name': 16, 'age': 24}\n"
          ]
        }
      ]
    },
    {
      "cell_type": "code",
      "source": [
        "## accessing Dictionary Elements\n",
        "student={\"name\":\"Adithi\",\"age\":24,\"grade\":'A'}\n",
        "print(student)"
      ],
      "metadata": {
        "colab": {
          "base_uri": "https://localhost:8080/"
        },
        "id": "pi3Ts3pp80ts",
        "outputId": "ca541620-b4ad-418c-e263-06db2473f6e9"
      },
      "execution_count": 6,
      "outputs": [
        {
          "output_type": "stream",
          "name": "stdout",
          "text": [
            "{'name': 'Adithi', 'age': 24, 'grade': 'A'}\n"
          ]
        }
      ]
    },
    {
      "cell_type": "code",
      "source": [
        "## Accessing Dictionary elements\n",
        "print(student['grade'])\n",
        "print(student['age'])\n",
        "\n",
        "## Accessing using get() method\n",
        "print(student.get('grade'))\n",
        "print(student.get('last_name'))\n",
        "print(student.get('last_name',\"Not Available\"))"
      ],
      "metadata": {
        "colab": {
          "base_uri": "https://localhost:8080/"
        },
        "id": "hgqf4nP79ASB",
        "outputId": "9b93bb0e-c1c0-42fa-8a98-129b012dbc6a"
      },
      "execution_count": 7,
      "outputs": [
        {
          "output_type": "stream",
          "name": "stdout",
          "text": [
            "A\n",
            "24\n",
            "A\n",
            "None\n",
            "Not Available\n"
          ]
        }
      ]
    },
    {
      "cell_type": "code",
      "source": [
        "## Modifying Dicitonary Elements\n",
        "## Dictionary are mutable,so you can add, update or delete elements\n",
        "print(student)"
      ],
      "metadata": {
        "colab": {
          "base_uri": "https://localhost:8080/"
        },
        "id": "_Xx_iwL09JLD",
        "outputId": "93925409-5264-44f0-e1de-8c1a06302a52"
      },
      "execution_count": 8,
      "outputs": [
        {
          "output_type": "stream",
          "name": "stdout",
          "text": [
            "{'name': 'Adithi', 'age': 24, 'grade': 'A'}\n"
          ]
        }
      ]
    },
    {
      "cell_type": "code",
      "source": [
        "student[\"age\"]=23  ##update value for the key\n",
        "print(student)\n",
        "student[\"address\"]=\"India\" ## added a new key and value\n",
        "print(student)"
      ],
      "metadata": {
        "colab": {
          "base_uri": "https://localhost:8080/"
        },
        "id": "l6VkDtoj9OGP",
        "outputId": "953705f8-caa1-4e9e-bbee-f46a75c6f749"
      },
      "execution_count": 9,
      "outputs": [
        {
          "output_type": "stream",
          "name": "stdout",
          "text": [
            "{'name': 'Adithi', 'age': 23, 'grade': 'A'}\n",
            "{'name': 'Adithi', 'age': 23, 'grade': 'A', 'address': 'India'}\n"
          ]
        }
      ]
    },
    {
      "cell_type": "code",
      "source": [
        "del student['grade'] ## delete key and value pair\n",
        "\n",
        "print(student)"
      ],
      "metadata": {
        "colab": {
          "base_uri": "https://localhost:8080/"
        },
        "id": "B5_hwosn9WT6",
        "outputId": "8eb391d2-5266-41c9-82ff-15ac4747ba25"
      },
      "execution_count": 10,
      "outputs": [
        {
          "output_type": "stream",
          "name": "stdout",
          "text": [
            "{'name': 'Adithi', 'age': 23, 'address': 'India'}\n"
          ]
        }
      ]
    },
    {
      "cell_type": "code",
      "source": [
        "## Dictionary methods\n",
        "\n",
        "keys=student.keys() ##get all the keys\n",
        "print(keys)\n",
        "values=student.values() ##get all values\n",
        "print(values)\n",
        "\n",
        "items=student.items() ##get all key value pairs\n",
        "print(items)"
      ],
      "metadata": {
        "colab": {
          "base_uri": "https://localhost:8080/"
        },
        "id": "aWblj1UJ9bRu",
        "outputId": "0e92bc6a-21e9-45f0-a559-98ad69c23d57"
      },
      "execution_count": 11,
      "outputs": [
        {
          "output_type": "stream",
          "name": "stdout",
          "text": [
            "dict_keys(['name', 'age', 'address'])\n",
            "dict_values(['Adithi', 23, 'India'])\n",
            "dict_items([('name', 'Adithi'), ('age', 23), ('address', 'India')])\n"
          ]
        }
      ]
    },
    {
      "cell_type": "code",
      "source": [
        "## shallow copy\n",
        "student_copy=student\n",
        "print(student)\n",
        "print(student_copy)"
      ],
      "metadata": {
        "colab": {
          "base_uri": "https://localhost:8080/"
        },
        "id": "zaMC0B2S9gtY",
        "outputId": "10fdac89-5ee7-4778-b1c3-ce49549df2d4"
      },
      "execution_count": 12,
      "outputs": [
        {
          "output_type": "stream",
          "name": "stdout",
          "text": [
            "{'name': 'Adithi', 'age': 23, 'address': 'India'}\n",
            "{'name': 'Adithi', 'age': 23, 'address': 'India'}\n"
          ]
        }
      ]
    },
    {
      "cell_type": "code",
      "source": [
        "student[\"name\"]=\"Adithi2\"\n",
        "print(student)\n",
        "print(student_copy)"
      ],
      "metadata": {
        "colab": {
          "base_uri": "https://localhost:8080/"
        },
        "id": "-_QueOho9lwB",
        "outputId": "3f3be1b0-bf65-4c6f-f0aa-8ebfb646d12a"
      },
      "execution_count": 13,
      "outputs": [
        {
          "output_type": "stream",
          "name": "stdout",
          "text": [
            "{'name': 'Adithi2', 'age': 23, 'address': 'India'}\n",
            "{'name': 'Adithi2', 'age': 23, 'address': 'India'}\n"
          ]
        }
      ]
    },
    {
      "cell_type": "code",
      "source": [
        "student_copy1=student.copy() ## shallow copy\n",
        "print(student_copy1)\n",
        "print(student)"
      ],
      "metadata": {
        "colab": {
          "base_uri": "https://localhost:8080/"
        },
        "id": "5y4gTbS09rXJ",
        "outputId": "e16461e9-68fe-43de-90ef-86af3403cdae"
      },
      "execution_count": 14,
      "outputs": [
        {
          "output_type": "stream",
          "name": "stdout",
          "text": [
            "{'name': 'Adithi2', 'age': 23, 'address': 'India'}\n",
            "{'name': 'Adithi2', 'age': 23, 'address': 'India'}\n"
          ]
        }
      ]
    },
    {
      "cell_type": "code",
      "source": [
        "student[\"name\"]=\"Adithi3\"\n",
        "print(student_copy1)\n",
        "print(student)"
      ],
      "metadata": {
        "colab": {
          "base_uri": "https://localhost:8080/"
        },
        "id": "OXuGsmxt9xNZ",
        "outputId": "c5707abd-dba6-47d0-b902-3645986c398e"
      },
      "execution_count": 15,
      "outputs": [
        {
          "output_type": "stream",
          "name": "stdout",
          "text": [
            "{'name': 'Adithi2', 'age': 23, 'address': 'India'}\n",
            "{'name': 'Adithi3', 'age': 23, 'address': 'India'}\n"
          ]
        }
      ]
    },
    {
      "cell_type": "code",
      "source": [
        "### Iterating Over Dictionaries\n",
        "## You can use loops to iterate over dictionatries, keys,values,or items\n",
        "\n",
        "## Iterating over keys\n",
        "for keys in student.keys():\n",
        "    print(keys)"
      ],
      "metadata": {
        "colab": {
          "base_uri": "https://localhost:8080/"
        },
        "id": "OLzItOqi93DE",
        "outputId": "de7ce361-1226-4da2-8917-6ec30eae621a"
      },
      "execution_count": 16,
      "outputs": [
        {
          "output_type": "stream",
          "name": "stdout",
          "text": [
            "name\n",
            "age\n",
            "address\n"
          ]
        }
      ]
    },
    {
      "cell_type": "code",
      "source": [
        "## Iterate over values\n",
        "for value in student.values():\n",
        "    print(value)"
      ],
      "metadata": {
        "colab": {
          "base_uri": "https://localhost:8080/"
        },
        "id": "BDNl-U0m98pA",
        "outputId": "b17fd0bf-10ae-43c4-e9e8-5623cd58d413"
      },
      "execution_count": 17,
      "outputs": [
        {
          "output_type": "stream",
          "name": "stdout",
          "text": [
            "Adithi3\n",
            "23\n",
            "India\n"
          ]
        }
      ]
    },
    {
      "cell_type": "code",
      "source": [
        "## Iterate over key value pairs\n",
        "for key,value in student.items():\n",
        "    print(f\"{key}:{value}\")"
      ],
      "metadata": {
        "colab": {
          "base_uri": "https://localhost:8080/"
        },
        "id": "Ooeu_kXV-BUS",
        "outputId": "5cfb112f-0fe3-406d-d802-25e7d9b71378"
      },
      "execution_count": 18,
      "outputs": [
        {
          "output_type": "stream",
          "name": "stdout",
          "text": [
            "name:Adithi3\n",
            "age:23\n",
            "address:India\n"
          ]
        }
      ]
    },
    {
      "cell_type": "code",
      "source": [
        "## Nested Disctionaries\n",
        "students={\n",
        "    \"student1\":{\"name\":\"Adithi\",\"age\":24},\n",
        "    \"student2\":{\"name\":\"Peter\",\"age\":35}\n",
        "}\n",
        "print(students)"
      ],
      "metadata": {
        "colab": {
          "base_uri": "https://localhost:8080/"
        },
        "id": "J0zkyFIJ-Wk7",
        "outputId": "a6938e10-b442-40c9-9a46-05c948ff9224"
      },
      "execution_count": 19,
      "outputs": [
        {
          "output_type": "stream",
          "name": "stdout",
          "text": [
            "{'student1': {'name': 'Adithi', 'age': 24}, 'student2': {'name': 'Peter', 'age': 35}}\n"
          ]
        }
      ]
    },
    {
      "cell_type": "code",
      "source": [
        "## Access nested dictionaries elementss\n",
        "print(students[\"student2\"][\"name\"])\n",
        "print(students[\"student2\"][\"age\"])"
      ],
      "metadata": {
        "colab": {
          "base_uri": "https://localhost:8080/"
        },
        "id": "3-fKtgcJ-jw8",
        "outputId": "049c8d25-9a36-4aa9-836c-5849af978ffd"
      },
      "execution_count": 20,
      "outputs": [
        {
          "output_type": "stream",
          "name": "stdout",
          "text": [
            "Peter\n",
            "35\n"
          ]
        }
      ]
    },
    {
      "cell_type": "code",
      "source": [
        "students.items()"
      ],
      "metadata": {
        "colab": {
          "base_uri": "https://localhost:8080/"
        },
        "id": "szgXeI1I-mLJ",
        "outputId": "c27e56f2-50a6-4b74-b21e-28d5f6b5a25b"
      },
      "execution_count": 21,
      "outputs": [
        {
          "output_type": "execute_result",
          "data": {
            "text/plain": [
              "dict_items([('student1', {'name': 'Adithi', 'age': 24}), ('student2', {'name': 'Peter', 'age': 35})])"
            ]
          },
          "metadata": {},
          "execution_count": 21
        }
      ]
    },
    {
      "cell_type": "code",
      "source": [
        "## Iterating over nested dictionaries\n",
        "for student_id,student_info in students.items():\n",
        "    print(f\"{student_id}:{student_info}\")\n",
        "    for key,value in student_info.items():\n",
        "        print(f\"{key}:{value}\")\n"
      ],
      "metadata": {
        "colab": {
          "base_uri": "https://localhost:8080/"
        },
        "id": "oVM5QkRX-rlY",
        "outputId": "1d7ad84e-b2c5-4b84-b9be-6a821178c644"
      },
      "execution_count": 22,
      "outputs": [
        {
          "output_type": "stream",
          "name": "stdout",
          "text": [
            "student1:{'name': 'Adithi', 'age': 24}\n",
            "name:Adithi\n",
            "age:24\n",
            "student2:{'name': 'Peter', 'age': 35}\n",
            "name:Peter\n",
            "age:35\n"
          ]
        }
      ]
    },
    {
      "cell_type": "code",
      "source": [
        "## Dictionary Comphrehension\n",
        "squares={x:x**2 for x in range(5)}\n",
        "print(squares)"
      ],
      "metadata": {
        "colab": {
          "base_uri": "https://localhost:8080/"
        },
        "id": "p97J0a-8-wgz",
        "outputId": "7cc85a5a-4703-42b7-d984-d81c97add2a2"
      },
      "execution_count": 23,
      "outputs": [
        {
          "output_type": "stream",
          "name": "stdout",
          "text": [
            "{0: 0, 1: 1, 2: 4, 3: 9, 4: 16}\n"
          ]
        }
      ]
    },
    {
      "cell_type": "code",
      "source": [
        "## Condition dictionary comprehension\n",
        "evens={x:x**2 for x in range(10) if x%2==0}\n",
        "print(evens)"
      ],
      "metadata": {
        "colab": {
          "base_uri": "https://localhost:8080/"
        },
        "id": "b0Nq_V-W-1rq",
        "outputId": "c9cfe8af-3044-41be-d59f-c41fce8984b0"
      },
      "execution_count": 24,
      "outputs": [
        {
          "output_type": "stream",
          "name": "stdout",
          "text": [
            "{0: 0, 2: 4, 4: 16, 6: 36, 8: 64}\n"
          ]
        }
      ]
    },
    {
      "cell_type": "code",
      "source": [
        "## Practical Examples\n",
        "\n",
        "## USe a dictionary to count he frequency of elements in list\n",
        "\n",
        "numbers=[1,2,2,3,3,3,4,4,4,4]\n",
        "frequency={}\n",
        "\n",
        "for number in numbers:\n",
        "    if number in frequency:\n",
        "        frequency[number]+=1\n",
        "    else:\n",
        "        frequency[number]=1\n",
        "print(frequency)"
      ],
      "metadata": {
        "colab": {
          "base_uri": "https://localhost:8080/"
        },
        "id": "UmxfgAug-5eF",
        "outputId": "df0ec120-fb69-47f1-ae2f-de2a0f37d3b3"
      },
      "execution_count": 25,
      "outputs": [
        {
          "output_type": "stream",
          "name": "stdout",
          "text": [
            "{1: 1, 2: 2, 3: 3, 4: 4}\n"
          ]
        }
      ]
    },
    {
      "cell_type": "code",
      "source": [
        "## Merge 2 dictionaries into one\n",
        "\n",
        "dict1={\"a\":1,\"b\":2}\n",
        "dict2={\"b\":3,\"c\":4}\n",
        "merged_dict={**dict1,**dict2}\n",
        "print(merged_dict)"
      ],
      "metadata": {
        "colab": {
          "base_uri": "https://localhost:8080/"
        },
        "id": "Z9TPwRdR--8R",
        "outputId": "2aa3be9d-c0e6-4801-8935-6ed570a3eea7"
      },
      "execution_count": 26,
      "outputs": [
        {
          "output_type": "stream",
          "name": "stdout",
          "text": [
            "{'a': 1, 'b': 3, 'c': 4}\n"
          ]
        }
      ]
    }
  ]
}