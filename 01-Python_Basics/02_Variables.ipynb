{
  "nbformat": 4,
  "nbformat_minor": 0,
  "metadata": {
    "colab": {
      "provenance": []
    },
    "kernelspec": {
      "name": "python3",
      "display_name": "Python 3"
    },
    "language_info": {
      "name": "python"
    }
  },
  "cells": [
    {
      "cell_type": "code",
      "execution_count": 1,
      "metadata": {
        "id": "v50tqoNcmVj9"
      },
      "outputs": [],
      "source": [
        "a=100"
      ]
    },
    {
      "cell_type": "code",
      "source": [
        "## Declaring And Assigning Variables\n",
        "\n",
        "age=24\n",
        "height=5.5\n",
        "name=\"Adithi\"\n",
        "is_student=True\n",
        "\n",
        "## printing the variables\n",
        "\n",
        "print(\"age :\",age)\n",
        "print(\"Height:\",height)\n",
        "print(\"Name:\",name)"
      ],
      "metadata": {
        "colab": {
          "base_uri": "https://localhost:8080/"
        },
        "id": "ZVVK11A0mquQ",
        "outputId": "dc88e44b-82d5-4185-b3b5-ce6524149faa"
      },
      "execution_count": 2,
      "outputs": [
        {
          "output_type": "stream",
          "name": "stdout",
          "text": [
            "age : 24\n",
            "Height: 5.5\n",
            "Name: Adithi\n"
          ]
        }
      ]
    },
    {
      "cell_type": "code",
      "source": [
        "## Naming Conventions\n",
        "## Variable names should be descriptive\n",
        "## They must start with a letter or an '_' and contains letter,numbers and underscores\n",
        "## variables names case sensitive\n",
        "\n",
        "#valid variable names\n",
        "\n",
        "first_name=\"Adithi\"\n",
        "last_name=\"Roy\""
      ],
      "metadata": {
        "id": "DeKz6CQsmzu-"
      },
      "execution_count": 3,
      "outputs": []
    },
    {
      "cell_type": "code",
      "source": [
        "## case sensitivity\n",
        "name=\"Adithi\"\n",
        "Name=\"Roy\"\n"
      ],
      "metadata": {
        "id": "qn3js9AMm_LC"
      },
      "execution_count": 4,
      "outputs": []
    },
    {
      "cell_type": "code",
      "source": [
        "## Understnading Variable types\n",
        "## Python is dynamically typed,type of a variable is determined at runtime\n",
        "age=25 #int\n",
        "height=5.5 #float\n",
        "name=\"Adithi\" #str\n",
        "is_student=True #bool\n",
        "\n",
        "print(type(name))"
      ],
      "metadata": {
        "colab": {
          "base_uri": "https://localhost:8080/"
        },
        "id": "US7PKcDtnJi8",
        "outputId": "db32798f-8b06-41bc-bbd4-2b8c7785fa6e"
      },
      "execution_count": 5,
      "outputs": [
        {
          "output_type": "stream",
          "name": "stdout",
          "text": [
            "<class 'str'>\n"
          ]
        }
      ]
    },
    {
      "cell_type": "code",
      "source": [
        "## Type Checking and Conversion\n",
        "\n",
        "type(height)"
      ],
      "metadata": {
        "colab": {
          "base_uri": "https://localhost:8080/"
        },
        "id": "Tq7YUID7nTN9",
        "outputId": "5e352005-9881-44ef-88c0-3d1593413db9"
      },
      "execution_count": 6,
      "outputs": [
        {
          "output_type": "execute_result",
          "data": {
            "text/plain": [
              "float"
            ]
          },
          "metadata": {},
          "execution_count": 6
        }
      ]
    },
    {
      "cell_type": "code",
      "source": [
        "age=25\n",
        "print(type(age))\n",
        "\n",
        "# Type conversion\n",
        "age_str=str(age)\n",
        "print(age_str)\n",
        "print(type(age_str))"
      ],
      "metadata": {
        "colab": {
          "base_uri": "https://localhost:8080/"
        },
        "id": "XGQPRP-VnYS7",
        "outputId": "19b0e8b1-bd8a-4728-9cb2-9997cf4c01e8"
      },
      "execution_count": 7,
      "outputs": [
        {
          "output_type": "stream",
          "name": "stdout",
          "text": [
            "<class 'int'>\n",
            "25\n",
            "<class 'str'>\n"
          ]
        }
      ]
    },
    {
      "cell_type": "code",
      "source": [
        "age='25'\n",
        "print(type(int(age)))"
      ],
      "metadata": {
        "colab": {
          "base_uri": "https://localhost:8080/"
        },
        "id": "kXbZ-VMandmO",
        "outputId": "761767eb-2c0a-4835-8e62-0d43de636b08"
      },
      "execution_count": 8,
      "outputs": [
        {
          "output_type": "stream",
          "name": "stdout",
          "text": [
            "<class 'int'>\n"
          ]
        }
      ]
    },
    {
      "cell_type": "code",
      "source": [
        "name=\"Adithi\"\n",
        "int(name)"
      ],
      "metadata": {
        "colab": {
          "base_uri": "https://localhost:8080/",
          "height": 165
        },
        "id": "UBxi24RSnjmU",
        "outputId": "e63ed30a-7040-4043-b2f0-7dac6b2c1aa2"
      },
      "execution_count": 9,
      "outputs": [
        {
          "output_type": "error",
          "ename": "ValueError",
          "evalue": "invalid literal for int() with base 10: 'Adithi'",
          "traceback": [
            "\u001b[0;31m---------------------------------------------------------------------------\u001b[0m",
            "\u001b[0;31mValueError\u001b[0m                                Traceback (most recent call last)",
            "\u001b[0;32m<ipython-input-9-a27fc0a4afba>\u001b[0m in \u001b[0;36m<cell line: 2>\u001b[0;34m()\u001b[0m\n\u001b[1;32m      1\u001b[0m \u001b[0mname\u001b[0m\u001b[0;34m=\u001b[0m\u001b[0;34m\"Adithi\"\u001b[0m\u001b[0;34m\u001b[0m\u001b[0;34m\u001b[0m\u001b[0m\n\u001b[0;32m----> 2\u001b[0;31m \u001b[0mint\u001b[0m\u001b[0;34m(\u001b[0m\u001b[0mname\u001b[0m\u001b[0;34m)\u001b[0m\u001b[0;34m\u001b[0m\u001b[0;34m\u001b[0m\u001b[0m\n\u001b[0m",
            "\u001b[0;31mValueError\u001b[0m: invalid literal for int() with base 10: 'Adithi'"
          ]
        }
      ]
    },
    {
      "cell_type": "code",
      "source": [
        "height=5.11\n",
        "type(height)"
      ],
      "metadata": {
        "colab": {
          "base_uri": "https://localhost:8080/"
        },
        "id": "GvBR9bJdnrkw",
        "outputId": "bddb805f-10f1-4fde-acba-053b709be16c"
      },
      "execution_count": 10,
      "outputs": [
        {
          "output_type": "execute_result",
          "data": {
            "text/plain": [
              "float"
            ]
          },
          "metadata": {},
          "execution_count": 10
        }
      ]
    },
    {
      "cell_type": "code",
      "source": [
        "float(int(height))"
      ],
      "metadata": {
        "colab": {
          "base_uri": "https://localhost:8080/"
        },
        "id": "TQTSjOasnxsn",
        "outputId": "2659edd3-c522-4edb-e17b-8491788d799e"
      },
      "execution_count": 11,
      "outputs": [
        {
          "output_type": "execute_result",
          "data": {
            "text/plain": [
              "5.0"
            ]
          },
          "metadata": {},
          "execution_count": 11
        }
      ]
    },
    {
      "cell_type": "code",
      "source": [
        "## Dynamic Typing\n",
        "## Python allows the type of a vraible to change as the program executes\n",
        "var=10 #int\n",
        "print(var,type(var))\n",
        "\n",
        "var=\"Hello\"\n",
        "print(var,type(var))\n",
        "\n",
        "var=3.14\n",
        "print(var,type(var))"
      ],
      "metadata": {
        "colab": {
          "base_uri": "https://localhost:8080/"
        },
        "id": "22odejdLn2nI",
        "outputId": "c567d1c8-bf75-440e-ac20-38335d7d36ae"
      },
      "execution_count": 12,
      "outputs": [
        {
          "output_type": "stream",
          "name": "stdout",
          "text": [
            "10 <class 'int'>\n",
            "Hello <class 'str'>\n",
            "3.14 <class 'float'>\n"
          ]
        }
      ]
    },
    {
      "cell_type": "code",
      "source": [
        "## input\n",
        "\n",
        "age=int(input(\"What is the age\"))\n",
        "print(age,type(age))"
      ],
      "metadata": {
        "colab": {
          "base_uri": "https://localhost:8080/"
        },
        "id": "pf3jRWLWn8IM",
        "outputId": "dcffd99d-5f90-4c3c-dc50-a97d758e2783"
      },
      "execution_count": 13,
      "outputs": [
        {
          "output_type": "stream",
          "name": "stdout",
          "text": [
            "What is the age24\n",
            "24 <class 'int'>\n"
          ]
        }
      ]
    },
    {
      "cell_type": "code",
      "source": [
        "### Simple calculator\n",
        "num1 = float(input(\"Enter first number: \"))\n",
        "num2 = float(input(\"Enter second number: \"))\n",
        "\n",
        "sum = num1 + num2\n",
        "difference = num1 - num2\n",
        "product = num1 * num2\n",
        "quotient = num1 / num2\n",
        "\n",
        "print(\"Sum:\", sum)\n",
        "print(\"Difference:\", difference)\n",
        "print(\"Product:\", product)\n",
        "print(\"Quotient:\", quotient)\n"
      ],
      "metadata": {
        "colab": {
          "base_uri": "https://localhost:8080/"
        },
        "id": "0LNLwQZmoCYm",
        "outputId": "e585864f-907c-4e4a-8424-6e877db0b19d"
      },
      "execution_count": 14,
      "outputs": [
        {
          "output_type": "stream",
          "name": "stdout",
          "text": [
            "Enter first number: 4\n",
            "Enter second number: 464537\n",
            "Sum: 464541.0\n",
            "Difference: -464533.0\n",
            "Product: 1858148.0\n",
            "Quotient: 8.61072422648788e-06\n"
          ]
        }
      ]
    },
    {
      "cell_type": "code",
      "source": [],
      "metadata": {
        "id": "HdIaR3pToL5E"
      },
      "execution_count": null,
      "outputs": []
    }
  ]
}