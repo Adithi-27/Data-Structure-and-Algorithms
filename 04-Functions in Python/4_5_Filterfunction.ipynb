{
  "nbformat": 4,
  "nbformat_minor": 0,
  "metadata": {
    "colab": {
      "provenance": []
    },
    "kernelspec": {
      "name": "python3",
      "display_name": "Python 3"
    },
    "language_info": {
      "name": "python"
    }
  },
  "cells": [
    {
      "cell_type": "markdown",
      "source": [
        "### The filter() Function in Python\n",
        "The filter() function constructs an iterator from elements of an iterable for which a function returns true. It is used to filter out items from a list (or any other iterable) based on a condition."
      ],
      "metadata": {
        "id": "5AAe0bIKRlQe"
      }
    },
    {
      "cell_type": "code",
      "source": [
        "def even(num):\n",
        "    if num%2==0:\n",
        "        return True"
      ],
      "metadata": {
        "id": "JlpJd3ABRnQ2"
      },
      "execution_count": 3,
      "outputs": []
    },
    {
      "cell_type": "code",
      "source": [
        "even(24)"
      ],
      "metadata": {
        "colab": {
          "base_uri": "https://localhost:8080/"
        },
        "id": "3eCgwQ8IR0JW",
        "outputId": "bc6b8570-55a5-405b-a2d0-0e2eef32eadb"
      },
      "execution_count": 4,
      "outputs": [
        {
          "output_type": "execute_result",
          "data": {
            "text/plain": [
              "True"
            ]
          },
          "metadata": {},
          "execution_count": 4
        }
      ]
    },
    {
      "cell_type": "code",
      "source": [
        "lst=[1,2,3,4,5,6,7,8,9,10,11,12]\n",
        "\n",
        "list(filter(even,lst))"
      ],
      "metadata": {
        "colab": {
          "base_uri": "https://localhost:8080/"
        },
        "id": "E2RRlcvxR3hj",
        "outputId": "91287b77-f7b9-47ed-fa63-4dec99e2b54e"
      },
      "execution_count": 5,
      "outputs": [
        {
          "output_type": "execute_result",
          "data": {
            "text/plain": [
              "[2, 4, 6, 8, 10, 12]"
            ]
          },
          "metadata": {},
          "execution_count": 5
        }
      ]
    },
    {
      "cell_type": "code",
      "source": [
        "## filter with a Lambda Function\n",
        "numbers=[1,2,3,4,5,6,7,8,9]\n",
        "greater_than_five=list(filter(lambda x:x>5,numbers))\n",
        "print(greater_than_five)"
      ],
      "metadata": {
        "colab": {
          "base_uri": "https://localhost:8080/"
        },
        "id": "28RPXIUJR7n6",
        "outputId": "46b0b821-a1aa-41f1-ec70-323534ee1778"
      },
      "execution_count": 6,
      "outputs": [
        {
          "output_type": "stream",
          "name": "stdout",
          "text": [
            "[6, 7, 8, 9]\n"
          ]
        }
      ]
    },
    {
      "cell_type": "code",
      "source": [
        "## Filter with a lambda function and multiple conditions\n",
        "numbers=[1,2,3,4,5,6,7,8,9]\n",
        "even_and_greater_than_five=list(filter(lambda x:x>5 and x%2==0,numbers))\n",
        "print(even_and_greater_than_five)"
      ],
      "metadata": {
        "colab": {
          "base_uri": "https://localhost:8080/"
        },
        "id": "OSp1w-O6R_vF",
        "outputId": "15cc11f9-b10d-42b7-b586-f13377a47998"
      },
      "execution_count": 7,
      "outputs": [
        {
          "output_type": "stream",
          "name": "stdout",
          "text": [
            "[6, 8]\n"
          ]
        }
      ]
    },
    {
      "cell_type": "code",
      "source": [
        "## Filter() to check if the age is greate than 25 in dictionaries\n",
        "people=[\n",
        "    {'name':'Adi','age':23},\n",
        "    {'name':'Jack','age':33},\n",
        "    {'name':'John','age':25}\n",
        "]\n",
        "\n",
        "def age_greater_than_25(person):\n",
        "    return person['age']>25\n",
        "\n",
        "list(filter(age_greater_than_25,people))"
      ],
      "metadata": {
        "colab": {
          "base_uri": "https://localhost:8080/"
        },
        "id": "ZgRT7vbwSD3P",
        "outputId": "d81cc4a0-e9c5-420b-a021-988e1d885ab1"
      },
      "execution_count": 8,
      "outputs": [
        {
          "output_type": "execute_result",
          "data": {
            "text/plain": [
              "[{'name': 'Jack', 'age': 33}]"
            ]
          },
          "metadata": {},
          "execution_count": 8
        }
      ]
    }
  ]
}