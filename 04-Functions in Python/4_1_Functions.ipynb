{
  "nbformat": 4,
  "nbformat_minor": 0,
  "metadata": {
    "colab": {
      "provenance": []
    },
    "kernelspec": {
      "name": "python3",
      "display_name": "Python 3"
    },
    "language_info": {
      "name": "python"
    }
  },
  "cells": [
    {
      "cell_type": "markdown",
      "source": [
        "### Introduction to Functions\n",
        "Definition:\n",
        "\n",
        "A function is a block of code that performs a specific task.\n",
        "Functions help in organizing code, reusing code, and improving readability."
      ],
      "metadata": {
        "id": "-dyAZ7vDVYfT"
      }
    },
    {
      "cell_type": "code",
      "source": [
        "## syntax\n",
        "def function_name(parameters):\n",
        "    \"\"\"Docstring\"\"\"\n",
        "    # Function body\n",
        "    return expression"
      ],
      "metadata": {
        "id": "6GXZzsM2Vd96"
      },
      "execution_count": 1,
      "outputs": []
    },
    {
      "cell_type": "code",
      "source": [
        "## why functions?\n",
        "num=24\n",
        "if num%2==0:\n",
        "    print(\"the number is even\")\n",
        "else:\n",
        "    print(\"the number is odd\")"
      ],
      "metadata": {
        "colab": {
          "base_uri": "https://localhost:8080/"
        },
        "id": "mpZTpqqtVqMi",
        "outputId": "587b2bf0-e43a-4325-bff2-4daac1be371a"
      },
      "execution_count": 2,
      "outputs": [
        {
          "output_type": "stream",
          "name": "stdout",
          "text": [
            "the number is even\n"
          ]
        }
      ]
    },
    {
      "cell_type": "code",
      "source": [
        "def even_or_odd(num):\n",
        "    \"\"\"This function finds even or odd\"\"\"\n",
        "    if num%2==0:\n",
        "        print(\"the number is even\")\n",
        "    else:\n",
        "        print(\"the number is odd\")"
      ],
      "metadata": {
        "id": "C1S72HDsVveX"
      },
      "execution_count": 3,
      "outputs": []
    },
    {
      "cell_type": "code",
      "source": [
        "## Call this function\n",
        "even_or_odd(24)"
      ],
      "metadata": {
        "colab": {
          "base_uri": "https://localhost:8080/"
        },
        "id": "cSLTQWfsVxhC",
        "outputId": "3f7a4ac0-18c9-44ea-a25a-9fef3537faed"
      },
      "execution_count": 4,
      "outputs": [
        {
          "output_type": "stream",
          "name": "stdout",
          "text": [
            "the number is even\n"
          ]
        }
      ]
    },
    {
      "cell_type": "code",
      "source": [
        "## function with multiple parameters\n",
        "\n",
        "def add(a,b):\n",
        "    return a+b\n",
        "\n",
        "result=add(2,4)\n",
        "print(result)"
      ],
      "metadata": {
        "colab": {
          "base_uri": "https://localhost:8080/"
        },
        "id": "Nks0LhRIV2pE",
        "outputId": "4239e1e5-7e28-4f38-88a2-0757c34724b1"
      },
      "execution_count": 5,
      "outputs": [
        {
          "output_type": "stream",
          "name": "stdout",
          "text": [
            "6\n"
          ]
        }
      ]
    },
    {
      "cell_type": "code",
      "source": [
        "## Default Parameters\n",
        "\n",
        "def greet(name):\n",
        "    print(f\"Hello {name} Welcome To the paradise\")\n",
        "\n",
        "greet(\"Adi\")"
      ],
      "metadata": {
        "colab": {
          "base_uri": "https://localhost:8080/"
        },
        "id": "Xn5sG38-V7As",
        "outputId": "01b8d45f-bc6d-44a5-f03d-a06825c29a1c"
      },
      "execution_count": 6,
      "outputs": [
        {
          "output_type": "stream",
          "name": "stdout",
          "text": [
            "Hello Adi Welcome To the paradise\n"
          ]
        }
      ]
    },
    {
      "cell_type": "code",
      "source": [
        "def greet(name=\"Guest\"):\n",
        "    print(f\"Hello {name} Welcome To the paradise\")\n",
        "\n",
        "greet(\"Adi\")"
      ],
      "metadata": {
        "colab": {
          "base_uri": "https://localhost:8080/"
        },
        "id": "W1RW1BIdWCEh",
        "outputId": "a792f095-821a-4754-da79-b0db05652a1e"
      },
      "execution_count": 7,
      "outputs": [
        {
          "output_type": "stream",
          "name": "stdout",
          "text": [
            "Hello Adi Welcome To the paradise\n"
          ]
        }
      ]
    },
    {
      "cell_type": "code",
      "source": [
        "### Variable Length Arguments\n",
        "## Positional And Keywords arguments\n",
        "\n",
        "def print_numbers(*Adi):\n",
        "    for number in Adi:\n",
        "        print(number)"
      ],
      "metadata": {
        "id": "1YhnbxqGWJ7q"
      },
      "execution_count": 8,
      "outputs": []
    },
    {
      "cell_type": "code",
      "source": [
        "print_numbers(1,2,3,4,5,6,7,8,\"Adi\")"
      ],
      "metadata": {
        "colab": {
          "base_uri": "https://localhost:8080/"
        },
        "id": "DKzj9mFIWRD-",
        "outputId": "a613910d-6f5f-422e-98ac-d7e82cec8439"
      },
      "execution_count": 9,
      "outputs": [
        {
          "output_type": "stream",
          "name": "stdout",
          "text": [
            "1\n",
            "2\n",
            "3\n",
            "4\n",
            "5\n",
            "6\n",
            "7\n",
            "8\n",
            "Adi\n"
          ]
        }
      ]
    },
    {
      "cell_type": "code",
      "source": [
        "## Positional arguments\n",
        "def print_numbers(*args):\n",
        "    for number in args:\n",
        "        print(number)"
      ],
      "metadata": {
        "id": "GCRXOfDTWdhO"
      },
      "execution_count": 10,
      "outputs": []
    },
    {
      "cell_type": "code",
      "source": [
        "print_numbers(1,2,3,4,5,6,7,8,\"Adi\")"
      ],
      "metadata": {
        "colab": {
          "base_uri": "https://localhost:8080/"
        },
        "id": "M1o3jGjHWh8A",
        "outputId": "28ad4b4c-5fcf-4593-bf4f-6172d6f73bd3"
      },
      "execution_count": 11,
      "outputs": [
        {
          "output_type": "stream",
          "name": "stdout",
          "text": [
            "1\n",
            "2\n",
            "3\n",
            "4\n",
            "5\n",
            "6\n",
            "7\n",
            "8\n",
            "Adi\n"
          ]
        }
      ]
    },
    {
      "cell_type": "code",
      "source": [
        "### Keywords Arguments\n",
        "\n",
        "def print_details(**kwargs):\n",
        "    for key,value in kwargs.items():\n",
        "        print(f\"{key}:{value}\")"
      ],
      "metadata": {
        "id": "s56przVZWops"
      },
      "execution_count": 12,
      "outputs": []
    },
    {
      "cell_type": "code",
      "source": [
        "print_details(name=\"Adi\",age=\"23\",country=\"India\")"
      ],
      "metadata": {
        "colab": {
          "base_uri": "https://localhost:8080/"
        },
        "id": "O_v2cLQUWvtT",
        "outputId": "26491ad4-3dab-44ef-ed2c-21e0d491a5ad"
      },
      "execution_count": 13,
      "outputs": [
        {
          "output_type": "stream",
          "name": "stdout",
          "text": [
            "name:Adi\n",
            "age:23\n",
            "country:India\n"
          ]
        }
      ]
    },
    {
      "cell_type": "code",
      "source": [
        "def print_details(*args,**kwargs):\n",
        "    for val in args:\n",
        "        print(f\" Positional arument :{val}\")\n",
        "\n",
        "    for key,value in kwargs.items():\n",
        "        print(f\"{key}:{value}\")"
      ],
      "metadata": {
        "id": "yml0F6h8W3Q-"
      },
      "execution_count": 14,
      "outputs": []
    },
    {
      "cell_type": "code",
      "source": [
        "print_details(1,2,3,4,\"Adi\",name=\"Adi\",age=\"23\",country=\"India\")"
      ],
      "metadata": {
        "colab": {
          "base_uri": "https://localhost:8080/"
        },
        "id": "0tlmGsjPW9iW",
        "outputId": "7a34045b-0b5a-4f92-bda8-feab8a0599d8"
      },
      "execution_count": 15,
      "outputs": [
        {
          "output_type": "stream",
          "name": "stdout",
          "text": [
            " Positional arument :1\n",
            " Positional arument :2\n",
            " Positional arument :3\n",
            " Positional arument :4\n",
            " Positional arument :Adi\n",
            "name:Adi\n",
            "age:23\n",
            "country:India\n"
          ]
        }
      ]
    },
    {
      "cell_type": "code",
      "source": [
        "### Return statements\n",
        "def multiply(a,b):\n",
        "    return a*b\n",
        "\n",
        "multiply(2,3)"
      ],
      "metadata": {
        "colab": {
          "base_uri": "https://localhost:8080/"
        },
        "id": "9iYizAZ5XF_3",
        "outputId": "ff5edbe0-4008-4a50-941f-c803ba6d28e7"
      },
      "execution_count": 16,
      "outputs": [
        {
          "output_type": "execute_result",
          "data": {
            "text/plain": [
              "6"
            ]
          },
          "metadata": {},
          "execution_count": 16
        }
      ]
    },
    {
      "cell_type": "code",
      "source": [
        "### Return multiple parameters\n",
        "def multiply(a,b):\n",
        "    return a*b,a\n",
        "\n",
        "multiply(2,3)"
      ],
      "metadata": {
        "colab": {
          "base_uri": "https://localhost:8080/"
        },
        "id": "yzLZkNGpXLXk",
        "outputId": "cd1006b6-d1ee-4442-a94c-4405b68e26d1"
      },
      "execution_count": 17,
      "outputs": [
        {
          "output_type": "execute_result",
          "data": {
            "text/plain": [
              "(6, 2)"
            ]
          },
          "metadata": {},
          "execution_count": 17
        }
      ]
    }
  ]
}