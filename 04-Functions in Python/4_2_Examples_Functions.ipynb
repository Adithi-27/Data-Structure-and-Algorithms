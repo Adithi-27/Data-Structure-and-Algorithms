{
  "nbformat": 4,
  "nbformat_minor": 0,
  "metadata": {
    "colab": {
      "provenance": []
    },
    "kernelspec": {
      "name": "python3",
      "display_name": "Python 3"
    },
    "language_info": {
      "name": "python"
    }
  },
  "cells": [
    {
      "cell_type": "markdown",
      "source": [
        "#### Example 1: Temperature Conversion"
      ],
      "metadata": {
        "id": "SdmRsPBaXw64"
      }
    },
    {
      "cell_type": "code",
      "source": [
        "def convert_temperature(temp,unit):\n",
        "    \"\"\"This function converts temperature between Celsius and Fahrenheit\"\"\"\n",
        "    if unit=='C':\n",
        "        return temp * 9/5 + 32  ## Celsius To Fahrenheit\n",
        "    elif unit==\"F\":\n",
        "        return (temp-32)*5/9 ## Fahrenheit to celsius\n",
        "    else:\n",
        "        return None\n",
        "\n",
        "print(convert_temperature(25,'C'))\n",
        "print(convert_temperature(77,'F'))"
      ],
      "metadata": {
        "colab": {
          "base_uri": "https://localhost:8080/"
        },
        "id": "lSaJfEuzXy8X",
        "outputId": "55daeeb4-f5c1-45d5-ed9a-39cfaeb456f9"
      },
      "execution_count": 1,
      "outputs": [
        {
          "output_type": "stream",
          "name": "stdout",
          "text": [
            "77.0\n",
            "25.0\n"
          ]
        }
      ]
    },
    {
      "cell_type": "markdown",
      "source": [
        "##### Example 2: Password Strength Checker"
      ],
      "metadata": {
        "id": "L0ERCqf4YByt"
      }
    },
    {
      "cell_type": "code",
      "source": [
        "def is_strong_password(password):\n",
        "    \"\"\"This function checks if the password is strong or not\"\"\"\n",
        "    if len(password)<8:\n",
        "        return False\n",
        "    if not any(char.isdigit() for char in password):\n",
        "        return False\n",
        "    if not any(char.islower() for char in password):\n",
        "        return False\n",
        "    if not any(char.isupper() for char in password):\n",
        "        return False\n",
        "    if not any(char in '!@#$%^&*()_+' for char in password):\n",
        "        return False\n",
        "    return True\n",
        "\n",
        "## calling the function\n",
        "print(is_strong_password(\"WeakPwd\"))\n",
        "print(is_strong_password(\"Str0ngPwd!\"))"
      ],
      "metadata": {
        "colab": {
          "base_uri": "https://localhost:8080/"
        },
        "id": "dtUovmd3YDNH",
        "outputId": "20df42bb-1c82-41ec-dac8-96a43382e1d0"
      },
      "execution_count": 2,
      "outputs": [
        {
          "output_type": "stream",
          "name": "stdout",
          "text": [
            "False\n",
            "True\n"
          ]
        }
      ]
    },
    {
      "cell_type": "markdown",
      "source": [
        "##### Example 3: Calculate the Total Cost Of Items In a Shopping Cart"
      ],
      "metadata": {
        "id": "sN4NDNuTYH-C"
      }
    },
    {
      "cell_type": "code",
      "source": [
        "def calculate_total_cost(cart):\n",
        "    total_cost=0\n",
        "    for item in cart:\n",
        "        total_cost+=item['price']* item['quantity']\n",
        "\n",
        "    return total_cost\n",
        "\n",
        "\n",
        "## Example cart data\n",
        "\n",
        "cart=[\n",
        "    {'name':'Apple','price':0.5,'quantity':4},\n",
        "    {'name':'Banana','price':0.3,'quantity':6},\n",
        "    {'name':'Orange','price':0.7,'quantity':3}\n",
        "\n",
        "]\n",
        "\n",
        "## calling the function\n",
        "total_cost=calculate_total_cost(cart)\n",
        "print(total_cost)"
      ],
      "metadata": {
        "colab": {
          "base_uri": "https://localhost:8080/"
        },
        "id": "8AT8njnzYNiN",
        "outputId": "f168e64c-656b-4e6a-dcae-d7a0d67cc02d"
      },
      "execution_count": 3,
      "outputs": [
        {
          "output_type": "stream",
          "name": "stdout",
          "text": [
            "5.8999999999999995\n"
          ]
        }
      ]
    },
    {
      "cell_type": "markdown",
      "source": [
        "##### Example 4: Check IF a String Is Palindrome"
      ],
      "metadata": {
        "id": "3YdCkwW3YVf1"
      }
    },
    {
      "cell_type": "code",
      "source": [
        "def is_palindrome(s):\n",
        "    s=s.lower().replace(\" \",\"\")\n",
        "    return s==s[::-1]\n",
        "\n",
        "print(is_palindrome(\"A man a plan a canal Panama\"))\n",
        "print(is_palindrome(\"Hello\"))"
      ],
      "metadata": {
        "colab": {
          "base_uri": "https://localhost:8080/"
        },
        "id": "doGR5J4mYZtB",
        "outputId": "1dc42e79-464a-4fc9-df82-0c877502c242"
      },
      "execution_count": 4,
      "outputs": [
        {
          "output_type": "stream",
          "name": "stdout",
          "text": [
            "True\n",
            "False\n"
          ]
        }
      ]
    },
    {
      "cell_type": "markdown",
      "source": [
        "##### Example 5: Calculate the factorials of a number using recursion"
      ],
      "metadata": {
        "id": "NzT30moLYeUF"
      }
    },
    {
      "cell_type": "code",
      "source": [
        "def factorial(n):\n",
        "    if n==0:\n",
        "        return 1\n",
        "    else:\n",
        "        return n * factorial(n-1)\n",
        "\n",
        "print(factorial(6))"
      ],
      "metadata": {
        "colab": {
          "base_uri": "https://localhost:8080/"
        },
        "id": "QY25-PM6YjxE",
        "outputId": "329b02ad-241d-40ea-de7d-d9e7ddfe386f"
      },
      "execution_count": 5,
      "outputs": [
        {
          "output_type": "stream",
          "name": "stdout",
          "text": [
            "720\n"
          ]
        }
      ]
    },
    {
      "cell_type": "markdown",
      "source": [
        "##### Example 6: A Function To Read A File and count the frequency of each word"
      ],
      "metadata": {
        "id": "yB4EJjosYpNN"
      }
    },
    {
      "cell_type": "code",
      "source": [
        "def count_word_frequency(file_path):\n",
        "    \"\"\"A Function To Read A File and count the frequency of each word.\n",
        "    If the specified file is not found, it will print an error message and return an empty dictionary.\n",
        "    \"\"\"\n",
        "    word_count = {}\n",
        "    try:\n",
        "        with open(file_path, 'r') as file:\n",
        "            for line in file:\n",
        "                words = line.split()\n",
        "                for word in words:\n",
        "                    word = word.lower().strip('.,!?;:\"\\'')\n",
        "                    word_count[word] = word_count.get(word, 0) + 1\n",
        "    except FileNotFoundError:\n",
        "        print(f\"Error: File '{file_path}' not found.\")\n",
        "        # Consider returning an empty dictionary or raising the exception\n",
        "        # depending on the desired behavior.\n",
        "        return {}  # Returning an empty dictionary here.\n",
        "\n",
        "    return word_count\n",
        "\n",
        "filepath = 'sample.txt'\n",
        "word_frequency = count_word_frequency(filepath)\n",
        "print(word_frequency)"
      ],
      "metadata": {
        "colab": {
          "base_uri": "https://localhost:8080/"
        },
        "id": "rb0FSEYhYtOy",
        "outputId": "099b1885-7adb-4f78-b4b1-affebde30ddc"
      },
      "execution_count": 7,
      "outputs": [
        {
          "output_type": "stream",
          "name": "stdout",
          "text": [
            "Error: File 'sample.txt' not found.\n",
            "{}\n"
          ]
        }
      ]
    },
    {
      "cell_type": "markdown",
      "source": [
        "##### Example 7: Validate Email Address"
      ],
      "metadata": {
        "id": "rEvg5D4nZDNl"
      }
    },
    {
      "cell_type": "code",
      "source": [
        "import re\n",
        "\n",
        "# Email validation function\n",
        "def is_valid_email(email):\n",
        "    \"\"\"This function checks if the email is valid.\"\"\"\n",
        "    pattern = r'^[a-zA-Z0-9_.+-]+@[a-zA-Z0-9-]+\\.[a-zA-Z0-9-.]+$'\n",
        "    return re.match(pattern, email) is not None\n",
        "\n",
        "# Calling the function\n",
        "print(is_valid_email(\"test@example.com\"))  # Output: True\n",
        "print(is_valid_email(\"invalid-email\"))  # Output: False"
      ],
      "metadata": {
        "colab": {
          "base_uri": "https://localhost:8080/"
        },
        "id": "MC05Odc0ZIFM",
        "outputId": "7e5e3295-f861-40d0-b509-87eedd5c5439"
      },
      "execution_count": 8,
      "outputs": [
        {
          "output_type": "stream",
          "name": "stdout",
          "text": [
            "True\n",
            "False\n"
          ]
        }
      ]
    }
  ]
}